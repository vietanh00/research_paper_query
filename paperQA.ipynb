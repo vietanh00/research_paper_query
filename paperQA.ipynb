{
  "nbformat": 4,
  "nbformat_minor": 0,
  "metadata": {
    "colab": {
      "provenance": [],
      "toc_visible": true,
      "gpuType": "T4"
    },
    "kernelspec": {
      "name": "python3",
      "display_name": "Python 3"
    },
    "language_info": {
      "name": "python"
    },
    "accelerator": "GPU",
    "gpuClass": "standard",
    "widgets": {
      "application/vnd.jupyter.widget-state+json": {
        "4de9f0d7b2404a53bac77954d506107d": {
          "model_module": "@jupyter-widgets/controls",
          "model_name": "HBoxModel",
          "model_module_version": "1.5.0",
          "state": {
            "_dom_classes": [],
            "_model_module": "@jupyter-widgets/controls",
            "_model_module_version": "1.5.0",
            "_model_name": "HBoxModel",
            "_view_count": null,
            "_view_module": "@jupyter-widgets/controls",
            "_view_module_version": "1.5.0",
            "_view_name": "HBoxView",
            "box_style": "",
            "children": [
              "IPY_MODEL_ef67e85627e74158ba3d0bd8d9e4657f",
              "IPY_MODEL_9973a35329754f0a9229b8bd87158b70",
              "IPY_MODEL_9b381865e6ec4d71a5fbb7669596e71b"
            ],
            "layout": "IPY_MODEL_2aebec4614d943cba4bae14c8a664be5"
          }
        },
        "ef67e85627e74158ba3d0bd8d9e4657f": {
          "model_module": "@jupyter-widgets/controls",
          "model_name": "HTMLModel",
          "model_module_version": "1.5.0",
          "state": {
            "_dom_classes": [],
            "_model_module": "@jupyter-widgets/controls",
            "_model_module_version": "1.5.0",
            "_model_name": "HTMLModel",
            "_view_count": null,
            "_view_module": "@jupyter-widgets/controls",
            "_view_module_version": "1.5.0",
            "_view_name": "HTMLView",
            "description": "",
            "description_tooltip": null,
            "layout": "IPY_MODEL_9dc76b7e583f482c8cd9f0db157ee2a6",
            "placeholder": "​",
            "style": "IPY_MODEL_0e81c433eb424089a340d12cd9bf9320",
            "value": "Map: 100%"
          }
        },
        "9973a35329754f0a9229b8bd87158b70": {
          "model_module": "@jupyter-widgets/controls",
          "model_name": "FloatProgressModel",
          "model_module_version": "1.5.0",
          "state": {
            "_dom_classes": [],
            "_model_module": "@jupyter-widgets/controls",
            "_model_module_version": "1.5.0",
            "_model_name": "FloatProgressModel",
            "_view_count": null,
            "_view_module": "@jupyter-widgets/controls",
            "_view_module_version": "1.5.0",
            "_view_name": "ProgressView",
            "bar_style": "",
            "description": "",
            "description_tooltip": null,
            "layout": "IPY_MODEL_4b29663ea7704084bee7a657b47b93bd",
            "max": 8000,
            "min": 0,
            "orientation": "horizontal",
            "style": "IPY_MODEL_c780e7cb03b24cb2a03fc39246a3d4d0",
            "value": 8000
          }
        },
        "9b381865e6ec4d71a5fbb7669596e71b": {
          "model_module": "@jupyter-widgets/controls",
          "model_name": "HTMLModel",
          "model_module_version": "1.5.0",
          "state": {
            "_dom_classes": [],
            "_model_module": "@jupyter-widgets/controls",
            "_model_module_version": "1.5.0",
            "_model_name": "HTMLModel",
            "_view_count": null,
            "_view_module": "@jupyter-widgets/controls",
            "_view_module_version": "1.5.0",
            "_view_name": "HTMLView",
            "description": "",
            "description_tooltip": null,
            "layout": "IPY_MODEL_4b23b93bf1634225bf56a98cd1926de3",
            "placeholder": "​",
            "style": "IPY_MODEL_d1e0b9f6b887474db8408934559bc305",
            "value": " 8000/8000 [33:55&lt;00:00,  3.97 examples/s]"
          }
        },
        "2aebec4614d943cba4bae14c8a664be5": {
          "model_module": "@jupyter-widgets/base",
          "model_name": "LayoutModel",
          "model_module_version": "1.2.0",
          "state": {
            "_model_module": "@jupyter-widgets/base",
            "_model_module_version": "1.2.0",
            "_model_name": "LayoutModel",
            "_view_count": null,
            "_view_module": "@jupyter-widgets/base",
            "_view_module_version": "1.2.0",
            "_view_name": "LayoutView",
            "align_content": null,
            "align_items": null,
            "align_self": null,
            "border": null,
            "bottom": null,
            "display": null,
            "flex": null,
            "flex_flow": null,
            "grid_area": null,
            "grid_auto_columns": null,
            "grid_auto_flow": null,
            "grid_auto_rows": null,
            "grid_column": null,
            "grid_gap": null,
            "grid_row": null,
            "grid_template_areas": null,
            "grid_template_columns": null,
            "grid_template_rows": null,
            "height": null,
            "justify_content": null,
            "justify_items": null,
            "left": null,
            "margin": null,
            "max_height": null,
            "max_width": null,
            "min_height": null,
            "min_width": null,
            "object_fit": null,
            "object_position": null,
            "order": null,
            "overflow": null,
            "overflow_x": null,
            "overflow_y": null,
            "padding": null,
            "right": null,
            "top": null,
            "visibility": "hidden",
            "width": null
          }
        },
        "9dc76b7e583f482c8cd9f0db157ee2a6": {
          "model_module": "@jupyter-widgets/base",
          "model_name": "LayoutModel",
          "model_module_version": "1.2.0",
          "state": {
            "_model_module": "@jupyter-widgets/base",
            "_model_module_version": "1.2.0",
            "_model_name": "LayoutModel",
            "_view_count": null,
            "_view_module": "@jupyter-widgets/base",
            "_view_module_version": "1.2.0",
            "_view_name": "LayoutView",
            "align_content": null,
            "align_items": null,
            "align_self": null,
            "border": null,
            "bottom": null,
            "display": null,
            "flex": null,
            "flex_flow": null,
            "grid_area": null,
            "grid_auto_columns": null,
            "grid_auto_flow": null,
            "grid_auto_rows": null,
            "grid_column": null,
            "grid_gap": null,
            "grid_row": null,
            "grid_template_areas": null,
            "grid_template_columns": null,
            "grid_template_rows": null,
            "height": null,
            "justify_content": null,
            "justify_items": null,
            "left": null,
            "margin": null,
            "max_height": null,
            "max_width": null,
            "min_height": null,
            "min_width": null,
            "object_fit": null,
            "object_position": null,
            "order": null,
            "overflow": null,
            "overflow_x": null,
            "overflow_y": null,
            "padding": null,
            "right": null,
            "top": null,
            "visibility": null,
            "width": null
          }
        },
        "0e81c433eb424089a340d12cd9bf9320": {
          "model_module": "@jupyter-widgets/controls",
          "model_name": "DescriptionStyleModel",
          "model_module_version": "1.5.0",
          "state": {
            "_model_module": "@jupyter-widgets/controls",
            "_model_module_version": "1.5.0",
            "_model_name": "DescriptionStyleModel",
            "_view_count": null,
            "_view_module": "@jupyter-widgets/base",
            "_view_module_version": "1.2.0",
            "_view_name": "StyleView",
            "description_width": ""
          }
        },
        "4b29663ea7704084bee7a657b47b93bd": {
          "model_module": "@jupyter-widgets/base",
          "model_name": "LayoutModel",
          "model_module_version": "1.2.0",
          "state": {
            "_model_module": "@jupyter-widgets/base",
            "_model_module_version": "1.2.0",
            "_model_name": "LayoutModel",
            "_view_count": null,
            "_view_module": "@jupyter-widgets/base",
            "_view_module_version": "1.2.0",
            "_view_name": "LayoutView",
            "align_content": null,
            "align_items": null,
            "align_self": null,
            "border": null,
            "bottom": null,
            "display": null,
            "flex": null,
            "flex_flow": null,
            "grid_area": null,
            "grid_auto_columns": null,
            "grid_auto_flow": null,
            "grid_auto_rows": null,
            "grid_column": null,
            "grid_gap": null,
            "grid_row": null,
            "grid_template_areas": null,
            "grid_template_columns": null,
            "grid_template_rows": null,
            "height": null,
            "justify_content": null,
            "justify_items": null,
            "left": null,
            "margin": null,
            "max_height": null,
            "max_width": null,
            "min_height": null,
            "min_width": null,
            "object_fit": null,
            "object_position": null,
            "order": null,
            "overflow": null,
            "overflow_x": null,
            "overflow_y": null,
            "padding": null,
            "right": null,
            "top": null,
            "visibility": null,
            "width": null
          }
        },
        "c780e7cb03b24cb2a03fc39246a3d4d0": {
          "model_module": "@jupyter-widgets/controls",
          "model_name": "ProgressStyleModel",
          "model_module_version": "1.5.0",
          "state": {
            "_model_module": "@jupyter-widgets/controls",
            "_model_module_version": "1.5.0",
            "_model_name": "ProgressStyleModel",
            "_view_count": null,
            "_view_module": "@jupyter-widgets/base",
            "_view_module_version": "1.2.0",
            "_view_name": "StyleView",
            "bar_color": null,
            "description_width": ""
          }
        },
        "4b23b93bf1634225bf56a98cd1926de3": {
          "model_module": "@jupyter-widgets/base",
          "model_name": "LayoutModel",
          "model_module_version": "1.2.0",
          "state": {
            "_model_module": "@jupyter-widgets/base",
            "_model_module_version": "1.2.0",
            "_model_name": "LayoutModel",
            "_view_count": null,
            "_view_module": "@jupyter-widgets/base",
            "_view_module_version": "1.2.0",
            "_view_name": "LayoutView",
            "align_content": null,
            "align_items": null,
            "align_self": null,
            "border": null,
            "bottom": null,
            "display": null,
            "flex": null,
            "flex_flow": null,
            "grid_area": null,
            "grid_auto_columns": null,
            "grid_auto_flow": null,
            "grid_auto_rows": null,
            "grid_column": null,
            "grid_gap": null,
            "grid_row": null,
            "grid_template_areas": null,
            "grid_template_columns": null,
            "grid_template_rows": null,
            "height": null,
            "justify_content": null,
            "justify_items": null,
            "left": null,
            "margin": null,
            "max_height": null,
            "max_width": null,
            "min_height": null,
            "min_width": null,
            "object_fit": null,
            "object_position": null,
            "order": null,
            "overflow": null,
            "overflow_x": null,
            "overflow_y": null,
            "padding": null,
            "right": null,
            "top": null,
            "visibility": null,
            "width": null
          }
        },
        "d1e0b9f6b887474db8408934559bc305": {
          "model_module": "@jupyter-widgets/controls",
          "model_name": "DescriptionStyleModel",
          "model_module_version": "1.5.0",
          "state": {
            "_model_module": "@jupyter-widgets/controls",
            "_model_module_version": "1.5.0",
            "_model_name": "DescriptionStyleModel",
            "_view_count": null,
            "_view_module": "@jupyter-widgets/base",
            "_view_module_version": "1.2.0",
            "_view_name": "StyleView",
            "description_width": ""
          }
        }
      }
    }
  },
  "cells": [
    {
      "cell_type": "markdown",
      "source": [
        "# Environment setup"
      ],
      "metadata": {
        "id": "qBvHbSH_edM9"
      }
    },
    {
      "cell_type": "code",
      "source": [
        "!pip install transformers"
      ],
      "metadata": {
        "id": "oPEw69StwYDq"
      },
      "execution_count": null,
      "outputs": []
    },
    {
      "cell_type": "code",
      "source": [
        "# faiss (Facebook AI Similarity Search) installation is best with conda\n",
        "!pip install -q condacolab\n",
        "import condacolab\n",
        "condacolab.install()\n",
        "!conda install -c pytorch faiss-gpu"
      ],
      "metadata": {
        "id": "r0kn9ROETn8y"
      },
      "execution_count": null,
      "outputs": []
    },
    {
      "cell_type": "code",
      "source": [
        "!pip install datasets\n",
        "!pip install gradio"
      ],
      "metadata": {
        "id": "VDsvb3-6TR5c"
      },
      "execution_count": null,
      "outputs": []
    },
    {
      "cell_type": "code",
      "source": [
        "!pip install transformers[onnx]"
      ],
      "metadata": {
        "id": "xhM0R83drJuf"
      },
      "execution_count": null,
      "outputs": []
    },
    {
      "cell_type": "markdown",
      "source": [
        "# Semantic search model: create context"
      ],
      "metadata": {
        "id": "P2OFJhHRegya"
      }
    },
    {
      "cell_type": "code",
      "execution_count": 9,
      "metadata": {
        "id": "AlFNcU3wMjG8"
      },
      "outputs": [],
      "source": [
        "import tensorflow as tf\n",
        "from transformers import TFAutoModelForQuestionAnswering"
      ]
    },
    {
      "cell_type": "code",
      "source": [
        "from transformers import pipeline"
      ],
      "metadata": {
        "id": "N9rn_xTbekeq"
      },
      "execution_count": 10,
      "outputs": []
    },
    {
      "cell_type": "code",
      "source": [
        "from datasets import load_dataset\n",
        "dataset = load_dataset(\"csv\", data_files=\"https://raw.githubusercontent.com/vietanh00/research_paper_query/main/data/arxiv_papers.csv\", split=\"train\")\n",
        "#only keep the title and abstract columns; remove rows with abstract < 30 since those likely won't help\n",
        "dataset = dataset.filter(lambda x: len(x[\"abstract\"]) > 30)\n",
        "dataset_columns = dataset.column_names\n",
        "col_to_keep = [\"title\", \"abstract\"]\n",
        "col_to_delete = [\"published\",\"authors\",\"url\"]\n",
        "dataset = dataset.remove_columns(col_to_delete)\n",
        "dataset"
      ],
      "metadata": {
        "id": "c6HYpuS_7INa"
      },
      "execution_count": null,
      "outputs": []
    },
    {
      "cell_type": "code",
      "source": [
        "from transformers import AutoTokenizer, TFAutoModel\n",
        "\n",
        "model_ckpt = \"sentence-transformers/multi-qa-mpnet-base-dot-v1\"\n",
        "tokenizer = AutoTokenizer.from_pretrained(model_ckpt)\n",
        "model = TFAutoModel.from_pretrained(model_ckpt, from_pt=True)"
      ],
      "metadata": {
        "id": "kYtikjI1yAwg"
      },
      "execution_count": null,
      "outputs": []
    },
    {
      "cell_type": "code",
      "source": [
        "def cls_pooling(model_output):\n",
        "    return model_output.last_hidden_state[:, 0]\n",
        "\n",
        "def get_embeddings(text_list):\n",
        "    encoded_input = tokenizer(\n",
        "        text_list, padding=True, truncation=True, return_tensors=\"tf\"\n",
        "    )\n",
        "    encoded_input = {k: v for k, v in encoded_input.items()}\n",
        "    model_output = model(**encoded_input)\n",
        "    return cls_pooling(model_output)"
      ],
      "metadata": {
        "id": "kokovUsA4KrL"
      },
      "execution_count": 14,
      "outputs": []
    },
    {
      "cell_type": "code",
      "source": [
        "embedding = get_embeddings(dataset[\"abstract\"][0])\n",
        "embedding.shape"
      ],
      "metadata": {
        "colab": {
          "base_uri": "https://localhost:8080/"
        },
        "id": "o_rzKvVg4Wo5",
        "outputId": "c529659a-659b-4510-871a-d745fd7da859"
      },
      "execution_count": 15,
      "outputs": [
        {
          "output_type": "execute_result",
          "data": {
            "text/plain": [
              "TensorShape([1, 768])"
            ]
          },
          "metadata": {},
          "execution_count": 15
        }
      ]
    },
    {
      "cell_type": "code",
      "source": [
        "embeddings_dataset = dataset.map(\n",
        "    lambda x: {\"embeddings\": get_embeddings(x[\"abstract\"]).numpy()[0]}\n",
        ")"
      ],
      "metadata": {
        "colab": {
          "base_uri": "https://localhost:8080/",
          "height": 72,
          "referenced_widgets": [
            "4de9f0d7b2404a53bac77954d506107d",
            "ef67e85627e74158ba3d0bd8d9e4657f",
            "9973a35329754f0a9229b8bd87158b70",
            "9b381865e6ec4d71a5fbb7669596e71b",
            "2aebec4614d943cba4bae14c8a664be5",
            "9dc76b7e583f482c8cd9f0db157ee2a6",
            "0e81c433eb424089a340d12cd9bf9320",
            "4b29663ea7704084bee7a657b47b93bd",
            "c780e7cb03b24cb2a03fc39246a3d4d0",
            "4b23b93bf1634225bf56a98cd1926de3",
            "d1e0b9f6b887474db8408934559bc305"
          ]
        },
        "id": "uCBDO_qg4psX",
        "outputId": "b1add79a-c50e-4ea8-f02e-76e47089fae9"
      },
      "execution_count": 16,
      "outputs": [
        {
          "output_type": "stream",
          "name": "stderr",
          "text": [
            "/usr/local/lib/python3.10/site-packages/transformers/generation/tf_utils.py:465: UserWarning: `seed_generator` is deprecated and will be removed in a future version.\n",
            "  warnings.warn(\"`seed_generator` is deprecated and will be removed in a future version.\", UserWarning)\n"
          ]
        },
        {
          "output_type": "display_data",
          "data": {
            "text/plain": [
              "Map:   0%|          | 0/8000 [00:00<?, ? examples/s]"
            ],
            "application/vnd.jupyter.widget-view+json": {
              "version_major": 2,
              "version_minor": 0,
              "model_id": "4de9f0d7b2404a53bac77954d506107d"
            }
          },
          "metadata": {}
        }
      ]
    },
    {
      "cell_type": "code",
      "source": [
        "import faiss\n",
        "# faiss fails for some reasons\n",
        "embeddings_dataset.add_faiss_index(column=\"embeddings\")"
      ],
      "metadata": {
        "id": "w5auVyNpPKYg"
      },
      "execution_count": null,
      "outputs": []
    },
    {
      "cell_type": "code",
      "source": [
        "question = \"What is regression?\"\n",
        "question_embedding = get_embeddings([question]).numpy()\n",
        "scores, samples = embeddings_dataset.get_nearest_examples(\n",
        "    \"embeddings\", question_embedding, k=5\n",
        ")"
      ],
      "metadata": {
        "id": "5HAogCzbg1yJ"
      },
      "execution_count": null,
      "outputs": []
    },
    {
      "cell_type": "code",
      "source": [
        "import pandas as pd\n",
        "\n",
        "samples_df = pd.DataFrame.from_dict(samples)\n",
        "samples_df[\"scores\"] = scores\n",
        "samples_df.sort_values(\"scores\", ascending=False, inplace=True)\n",
        "relevant_title = []\n",
        "relevant_abstract = []\n",
        "for _, row in samples_df.iterrows():\n",
        "    relevant_title.append(row.title)\n",
        "    relevant_abstract.append(row.abstract)"
      ],
      "metadata": {
        "id": "gEFMP4vLhX4c"
      },
      "execution_count": 52,
      "outputs": []
    },
    {
      "cell_type": "markdown",
      "source": [
        "# Question-answer: distilBERT from created context"
      ],
      "metadata": {
        "id": "6mjwHHMf10WK"
      }
    },
    {
      "cell_type": "code",
      "source": [
        "from transformers import DistilBertTokenizer, TFDistilBertForQuestionAnswering, pipeline\n",
        "tokenizer = DistilBertTokenizer.from_pretrained(\"distilbert-base-uncased-distilled-squad\")\n",
        "model = TFDistilBertForQuestionAnswering.from_pretrained(\"distilbert-base-uncased-distilled-squad\")\n",
        "\n",
        "context_list = relevant_abstract\n",
        "\n",
        "inputs = tokenizer(question, relevant_abstract[0], return_tensors=\"tf\")\n",
        "outputs = model(**inputs)\n",
        "\n",
        "answer_start_index = int(tf.math.argmax(outputs.start_logits, axis=-1)[0])\n",
        "answer_end_index = int(tf.math.argmax(outputs.end_logits, axis=-1)[0])\n",
        "\n",
        "predict_answer_tokens = inputs.input_ids[0, answer_start_index : answer_end_index + 1]\n",
        "tokenizer.decode(predict_answer_tokens)\n",
        "\n",
        "q_a = pipeline(\"question-answering\", model='distilbert-base-uncased-distilled-squad')\n",
        "print(\"=\"*50)\n",
        "print(f\">>Possible answers for \\\"{question}\\\" include: \")\n",
        "answer_list = []\n",
        "for ra in relevant_abstract:\n",
        "  result = q_a(question=question, context=ra)\n",
        "  answer_list.append(result['answer'])\n",
        "print(\" -- \".join(answer_list))\n",
        "print(\">>Works regarding this subject include: \")\n",
        "for rt in relevant_title:\n",
        "  print(\">>>>\", rt)"
      ],
      "metadata": {
        "id": "_n576GpopVe1",
        "colab": {
          "base_uri": "https://localhost:8080/"
        },
        "outputId": "3afe947d-75b6-411f-ab63-73aed0bf7885"
      },
      "execution_count": 62,
      "outputs": [
        {
          "output_type": "stream",
          "name": "stderr",
          "text": [
            "Some layers from the model checkpoint at distilbert-base-uncased-distilled-squad were not used when initializing TFDistilBertForQuestionAnswering: ['dropout_19']\n",
            "- This IS expected if you are initializing TFDistilBertForQuestionAnswering from the checkpoint of a model trained on another task or with another architecture (e.g. initializing a BertForSequenceClassification model from a BertForPreTraining model).\n",
            "- This IS NOT expected if you are initializing TFDistilBertForQuestionAnswering from the checkpoint of a model that you expect to be exactly identical (initializing a BertForSequenceClassification model from a BertForSequenceClassification model).\n",
            "Some layers of TFDistilBertForQuestionAnswering were not initialized from the model checkpoint at distilbert-base-uncased-distilled-squad and are newly initialized: ['dropout_433']\n",
            "You should probably TRAIN this model on a down-stream task to be able to use it for predictions and inference.\n"
          ]
        },
        {
          "output_type": "stream",
          "name": "stdout",
          "text": [
            "==================================================\n",
            ">>Possible answers for \"What is regression?\" include: \n",
            "a gap -- Logic artificial intelligence -- significant discontent -- it has been\n",
            "debated whether humans are able to create intelligence using technology -- exponential growth\n",
            ">>Works regarding this subject include: \n",
            ">>> Independent Ethical Assessment of Text Classification Models: A Hate Speech Detection Case Study\n",
            ">>> Design of quantum optical experiments with logic artificial intelligence\n",
            ">>> Symbols as a Lingua Franca for Bridging Human-AI Chasm for Explainable and Advisable AI Systems\n",
            ">>> An argument for the impossibility of machine intelligence\n",
            ">>> A brief history of AI: how to prevent another winter (a critical review)\n"
          ]
        }
      ]
    },
    {
      "cell_type": "markdown",
      "source": [
        "# Put gradio"
      ],
      "metadata": {
        "id": "Z2IiGubzn6BY"
      }
    },
    {
      "cell_type": "code",
      "source": [
        "import gradio as gr\n",
        "def answer(question):\n",
        "  question_embedding = get_embeddings([question]).numpy()\n",
        "  scores, samples = embeddings_dataset.get_nearest_examples(\n",
        "    \"embeddings\", question_embedding, k=5)\n",
        "  \n",
        "  samples_df = pd.DataFrame.from_dict(samples)\n",
        "  samples_df[\"scores\"] = scores\n",
        "  samples_df.sort_values(\"scores\", ascending=False, inplace=True)\n",
        "  relevant_title = []\n",
        "  relevant_abstract = []\n",
        "  for _, row in samples_df.iterrows():\n",
        "      relevant_title.append(row.title)\n",
        "      relevant_abstract.append(row.abstract)\n",
        "\n",
        "  q_a = pipeline(\"question-answering\", model='distilbert-base-uncased-distilled-squad')\n",
        "  output = \"\"\n",
        "  output += \">>Possible answers for \\\"\" + question + \"\\\" include: \\n\"\n",
        "  answer_list = []\n",
        "  for ct in relevant_abstract:\n",
        "    result = q_a(question=question, context=ct)\n",
        "    answer_list.append(result['answer'])\n",
        "  output += \" -- \".join(answer_list)\n",
        "  output += \"\\n>>Works regarding this subject include: \", \", \".join(relevant_title)\n",
        "  return output"
      ],
      "metadata": {
        "id": "khBozP8xoVDU"
      },
      "execution_count": 46,
      "outputs": []
    },
    {
      "cell_type": "code",
      "source": [
        "demo = gr.Interface(fn=answer, inputs=\"text\", outputs=\"text\")\n",
        "\n",
        "demo.launch(share=True, debug=True)  "
      ],
      "metadata": {
        "colab": {
          "base_uri": "https://localhost:8080/",
          "height": 611
        },
        "id": "4G-2akBVpDWD",
        "outputId": "12960670-7483-4e12-93ab-d5ffcd4e6ef7"
      },
      "execution_count": null,
      "outputs": [
        {
          "output_type": "stream",
          "name": "stdout",
          "text": [
            "Colab notebook detected. This cell will run indefinitely so that you can see errors and logs. To turn off, set debug=False in launch().\n",
            "Running on public URL: https://d9e3558ca2bd9cd9e8.gradio.live\n",
            "\n",
            "This share link expires in 72 hours. For free permanent hosting and GPU upgrades (NEW!), check out Spaces: https://huggingface.co/spaces\n"
          ]
        },
        {
          "output_type": "display_data",
          "data": {
            "text/plain": [
              "<IPython.core.display.HTML object>"
            ],
            "text/html": [
              "<div><iframe src=\"https://d9e3558ca2bd9cd9e8.gradio.live\" width=\"100%\" height=\"500\" allow=\"autoplay; camera; microphone; clipboard-read; clipboard-write;\" frameborder=\"0\" allowfullscreen></iframe></div>"
            ]
          },
          "metadata": {}
        }
      ]
    }
  ]
}